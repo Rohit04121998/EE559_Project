{
 "cells": [
  {
   "cell_type": "code",
   "execution_count": 2,
   "id": "971d19ac",
   "metadata": {},
   "outputs": [],
   "source": [
    "import pandas as pd\n",
    "import seaborn as sns\n",
    "import matplotlib.pyplot as plt"
   ]
  },
  {
   "cell_type": "markdown",
   "id": "23469942",
   "metadata": {},
   "source": [
    "# Importing Data"
   ]
  },
  {
   "cell_type": "code",
   "execution_count": 20,
   "id": "3e66d42e",
   "metadata": {},
   "outputs": [
    {
     "data": {
      "image/png": "[encoded data removed]",
      "text/plain": [
       "<Figure size 640x480 with 1 Axes>"
      ]
     },
     "metadata": {},
     "output_type": "display_data"
    }
   ],
   "source": [
    "data_train = pd.read_csv('Mushroom_datasets/mushroom_train.csv')\n",
    "data_test = pd.read_csv('Mushroom_datasets/mushroom_test.csv')\n",
    "label_count = data_train['class'].value_counts()\n",
    "\n",
    "plt.hist(data_train['class'], edgecolor='black')\n",
    "plt.xticks(range(2), ['Poisonous', 'Edible'], fontsize=10)\n",
    "plt.title('Distribution of Mushroom Types in Training Data', fontsize=14)\n",
    "plt.show()"
   ]
  },
  {
   "cell_type": "code",
   "execution_count": 37,
   "id": "ed93ee06",
   "metadata": {},
   "outputs": [
    {
     "name": "stdout",
     "output_type": "stream",
     "text": [
      "Train dataset\n",
      "--------------------------------------------------\n",
      "cap-shape: 7\n",
      "cap-surface: 11\n",
      "cap-color: 12\n",
      "does-bruise-or-bleed: 2\n",
      "gill-attachment: 7\n",
      "gill-spacing: 3\n",
      "gill-color: 12\n",
      "stem-color: 13\n",
      "has-ring: 2\n",
      "ring-type: 8\n",
      "habitat: 8\n",
      "season: 4\n",
      "class: 2\n"
     ]
    }
   ],
   "source": [
    "train_count = {}\n",
    "features = features = [col for col in data_train.columns if data_train[col].dtype == 'object']\n",
    "for i in features:\n",
    "    train_count[i] = data_train[i].nunique()\n",
    "\n",
    "print(\"Train dataset\")\n",
    "print(\"-\"*50)\n",
    "for i in train_count.keys():\n",
    "    print(i+':', train_count[i])"
   ]
  },
  {
   "cell_type": "code",
   "execution_count": 38,
   "id": "c461ef57",
   "metadata": {},
   "outputs": [
    {
     "name": "stdout",
     "output_type": "stream",
     "text": [
      "cap-shape\n",
      "--------------------------------------------------\n",
      "c: 1288\n",
      "x: 18808\n",
      "s: 5079\n",
      "o: 2417\n",
      "f: 9289\n",
      "b: 4043\n",
      "p: 1824\n",
      "\n",
      "cap-surface\n",
      "--------------------------------------------------\n",
      "i: 1599\n",
      "y: 4460\n",
      "t: 15569\n",
      "d: 3125\n",
      "g: 3280\n",
      "h: 3482\n",
      "k: 1602\n",
      "s: 5341\n",
      "e: 1789\n",
      "w: 1494\n",
      "l: 1007\n",
      "\n",
      "cap-color\n",
      "--------------------------------------------------\n",
      "y: 6026\n",
      "r: 1227\n",
      "n: 16960\n",
      "w: 5402\n",
      "g: 3072\n",
      "k: 907\n",
      "o: 2581\n",
      "l: 580\n",
      "e: 2781\n",
      "u: 1181\n",
      "b: 870\n",
      "p: 1161\n",
      "\n",
      "does-bruise-or-bleed\n",
      "--------------------------------------------------\n",
      "f: 35279\n",
      "t: 7469\n",
      "\n",
      "gill-attachment\n",
      "--------------------------------------------------\n",
      "a: 15844\n",
      "d: 7133\n",
      "p: 4185\n",
      "x: 5174\n",
      "e: 3998\n",
      "f: 2501\n",
      "s: 3913\n",
      "\n",
      "gill-spacing\n",
      "--------------------------------------------------\n",
      "c: 34791\n",
      "d: 5456\n",
      "f: 2501\n",
      "\n",
      "gill-color\n",
      "--------------------------------------------------\n",
      "n: 6742\n",
      "w: 12893\n",
      "g: 2860\n",
      "y: 6743\n",
      "p: 4178\n",
      "k: 1697\n",
      "f: 2501\n",
      "b: 662\n",
      "e: 756\n",
      "o: 2041\n",
      "r: 962\n",
      "u: 713\n",
      "\n",
      "stem-color\n",
      "--------------------------------------------------\n",
      "w: 15996\n",
      "y: 5547\n",
      "n: 12678\n",
      "r: 383\n",
      "o: 1512\n",
      "g: 1841\n",
      "l: 150\n",
      "e: 1431\n",
      "u: 1031\n",
      "f: 745\n",
      "k: 599\n",
      "p: 710\n",
      "b: 125\n",
      "\n",
      "has-ring\n",
      "--------------------------------------------------\n",
      "f: 32085\n",
      "t: 10663\n",
      "\n",
      "ring-type\n",
      "--------------------------------------------------\n",
      "f: 35581\n",
      "r: 1013\n",
      "e: 1703\n",
      "z: 1418\n",
      "l: 998\n",
      "p: 907\n",
      "g: 888\n",
      "m: 240\n",
      "\n",
      "habitat\n",
      "--------------------------------------------------\n",
      "d: 30945\n",
      "h: 1444\n",
      "g: 5486\n",
      "l: 2244\n",
      "m: 2041\n",
      "w: 259\n",
      "p: 245\n",
      "u: 84\n",
      "\n",
      "season\n",
      "--------------------------------------------------\n",
      "a: 21053\n",
      "u: 16065\n",
      "w: 3669\n",
      "s: 1961\n",
      "\n",
      "class\n",
      "--------------------------------------------------\n",
      "p: 23595\n",
      "e: 19153\n",
      "\n"
     ]
    }
   ],
   "source": [
    "for i in features:\n",
    "    print(i)\n",
    "    print('-'*50)\n",
    "    l = data_train[i].unique()\n",
    "    for j in l:\n",
    "        print(j+':', len(data_train[data_train[i]==j]))\n",
    "    print()"
   ]
  },
  {
   "cell_type": "code",
   "execution_count": null,
   "id": "1e851a51",
   "metadata": {},
   "outputs": [],
   "source": []
  }
 ],
 "metadata": {
  "kernelspec": {
   "display_name": "Python 3 (ipykernel)",
   "language": "python",
   "name": "python3"
  },
  "language_info": {
   "codemirror_mode": {
    "name": "ipython",
    "version": 3
   },
   "file_extension": ".py",
   "mimetype": "text/x-python",
   "name": "python",
   "nbconvert_exporter": "python",
   "pygments_lexer": "ipython3",
   "version": "3.8.15"
  }
 },
 "nbformat": 4,
 "nbformat_minor": 5
}
